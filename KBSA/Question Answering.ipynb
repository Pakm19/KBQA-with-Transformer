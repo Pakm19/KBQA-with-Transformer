{
 "cells": [
  {
   "cell_type": "code",
   "execution_count": null,
   "metadata": {
    "collapsed": false
   },
   "outputs": [],
   "source": [
    "from gg_search import GoogleSearch\n",
    "ggsearch = GoogleSearch()\n",
    "from relevance_ranking import rel_ranking\n",
    "from reader import Reader\n",
    "reader = Reader()"
   ]
  },
  {
   "cell_type": "code",
   "execution_count": null,
   "metadata": {
    "collapsed": true
   },
   "outputs": [],
   "source": [
    "question = 'Ai là người giàu nhất việt nam'"
   ]
  },
  {
   "cell_type": "markdown",
   "metadata": {},
   "source": [
    "## Using google to find relevant documents"
   ]
  },
  {
   "cell_type": "code",
   "execution_count": null,
   "metadata": {
    "collapsed": false
   },
   "outputs": [],
   "source": [
    "from gg_search import GoogleSearch\n",
    "ggsearch = GoogleSearch()\n",
    "question = 'Ai là người giàu nhất việt nam'\n",
    "links, documents = ggsearch.search(question)\n",
    "for i in range(0,min(len(documents),5)):\n",
    "    print(\"Document\", i)\n",
    "    print(\"Link:\", links[i])\n",
    "    print(\"Sample content:\\n\", documents[i][:500],'.....')\n",
    "    print('\\n------------------------------\\n')"
   ]
  },
  {
   "cell_type": "code",
   "execution_count": null,
   "metadata": {},
   "outputs": [],
   "source": [
    "documents"
   ]
  },
  {
   "cell_type": "code",
   "execution_count": null,
   "metadata": {},
   "outputs": [],
   "source": [
    "links"
   ]
  },
  {
   "cell_type": "markdown",
   "metadata": {},
   "source": [
    "## Find relevant passages from documents\n",
    "- Extract keywords (must-have words) from question\n",
    "- Filtering out documents that do not contain keywords from question\n",
    "- Spliting documents into passages\n",
    "- Filtering out passages that do not contain keywords from question\n",
    "- Ranking remaining passages based on N-gram matching"
   ]
  },
  {
   "cell_type": "code",
   "execution_count": null,
   "metadata": {},
   "outputs": [],
   "source": [
    "passages = rel_ranking(question,documents)"
   ]
  },
  {
   "cell_type": "code",
   "execution_count": null,
   "metadata": {
    "collapsed": false
   },
   "outputs": [],
   "source": [
    "\n",
    "for i in range(min(len(passages),5)):\n",
    "    print('Passage ranked', i + 1,'\\n')\n",
    "    print(passages[i])\n",
    "    print('\\n------------------------------\\n')"
   ]
  },
  {
   "cell_type": "code",
   "execution_count": null,
   "metadata": {
    "collapsed": true
   },
   "outputs": [],
   "source": [
    "# Select top 40 paragraphs\n",
    "passages = passages[:40]\n",
    "passages[0]"
   ]
  },
  {
   "cell_type": "markdown",
   "metadata": {},
   "source": [
    "### Using reading comprehend model (BERT) to extract answer for each passage"
   ]
  },
  {
   "cell_type": "code",
   "execution_count": null,
   "metadata": {},
   "outputs": [],
   "source": [
    "import gradio as gr\n",
    "\n",
    "def QA(text):\n",
    "    _, documents = ggsearch.search(text)\n",
    "    passages = rel_ranking(text, documents)\n",
    "    passages = passages[:40]\n",
    "    return passages[0]\n",
    "            \n",
    "    \n",
    "\n",
    "input_text = gr.inputs.Textbox(label=\"Nhập câu hỏi:\")\n",
    "output_text = gr.outputs.Textbox(label=\"Câu trả lời:\")\n",
    "\n",
    "gr.Interface(fn=QA, inputs=input_text, outputs=output_text).launch(share=True)"
   ]
  }
 ],
 "metadata": {
  "anaconda-cloud": {},
  "kernelspec": {
   "display_name": "Python 3",
   "language": "python",
   "name": "python3"
  },
  "language_info": {
   "codemirror_mode": {
    "name": "ipython",
    "version": 3
   },
   "file_extension": ".py",
   "mimetype": "text/x-python",
   "name": "python",
   "nbconvert_exporter": "python",
   "pygments_lexer": "ipython3",
   "version": "3.9.16"
  }
 },
 "nbformat": 4,
 "nbformat_minor": 2
}
